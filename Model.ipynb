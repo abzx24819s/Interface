{
 "nbformat": 4,
 "nbformat_minor": 0,
 "metadata": {
  "colab": {
   "provenance": []
  },
  "kernelspec": {
   "name": "python3",
   "display_name": "Python 3"
  },
  "language_info": {
   "name": "python"
  }
 },
 "cells": [
  {
   "cell_type": "code",
   "execution_count": null,
   "metadata": {
    "colab": {
     "base_uri": "https://localhost:8080/"
    },
    "id": "dc2DuQS0rmTc",
    "outputId": "b34f24f2-91fa-4c5a-b532-1b746e0592ea"
   },
   "outputs": [],
   "source": [
    "!pip install scikit-surprise"
   ]
  },
  {
   "cell_type": "code",
   "execution_count": null,
   "outputs": [],
   "source": [
    "!pip install pandas"
   ],
   "metadata": {
    "collapsed": false
   }
  },
  {
   "cell_type": "code",
   "source": [
    "import os\n",
    "import json\n",
    "import sqlite3\n",
    "from surprise import SVD\n",
    "from surprise import Dataset\n",
    "from surprise import Reader\n",
    "from surprise.model_selection import train_test_split\n",
    "import pandas as pd\n",
    "\n",
    "# Step 1: Connect to SQLite Database\n",
    "db_path = 'user_history.db'\n",
    "\n",
    "if os.path.exists(db_path):\n",
    "    conn_user_history = sqlite3.connect(db_path)\n",
    "    print(\"Connected to existing database.\")\n",
    "else:\n",
    "    print(\"Database file not found. Creating a new database.\")\n",
    "    conn_user_history = sqlite3.connect(db_path)\n",
    "    conn_user_history.close()\n",
    "    conn_user_history = sqlite3.connect(db_path)\n",
    "\n",
    "# Step 2: Check if the User History table is empty\n",
    "try:\n",
    "    cursor = conn_user_history.cursor()\n",
    "    cursor.execute(\"SELECT COUNT(*) FROM user_history\")\n",
    "    result = cursor.fetchone()[0]\n",
    "    if result == 0:\n",
    "        # Load User Drink History from CSV into Database\n",
    "        user_history_csv_path = 'C:/Users/ahmed/Downloads/user_history_with_input.csv'  # Specify the path to your CSV file\n",
    "        user_history_csv_df = pd.read_csv(user_history_csv_path)\n",
    "        user_history_csv_df.columns = user_history_csv_df.columns.str.strip()  # Remove leading/trailing whitespaces\n",
    "        user_history_csv_df.to_sql('user_history', conn_user_history, if_exists='append', index=False)\n",
    "        print(\"User history data loaded and inserted into user_history table successfully.\")\n",
    "    else:\n",
    "        print(\"User history table is not empty. Skipping CSV file loading.\")\n",
    "except Exception as e:\n",
    "    print(\"Error checking user history table:\", e)\n",
    "\n",
    "# Step 3: Read User Drink History from Database\n",
    "try:\n",
    "    user_history_df = pd.read_sql_query(\"SELECT * FROM user_history\", conn_user_history)\n",
    "    print(\"User history data loaded successfully from database.\")\n",
    "    print(\"Contents of user history:\")\n",
    "    print(user_history_df.head())\n",
    "except Exception as e:\n",
    "    print(\"Error reading user history data from database:\", e)\n",
    "\n",
    "# Step 4: Train Machine Learning Model\n",
    "try:\n",
    "    reader = Reader(rating_scale=(1, 5))\n",
    "    data = Dataset.load_from_df(user_history_df[['user_id', 'drink_id', 'drink_rating']], reader)\n",
    "    trainset, _ = train_test_split(data, test_size=0.2, random_state=42)\n",
    "    print(\"Training data prepared successfully.\")\n",
    "except Exception as e:\n",
    "    print(\"Error preparing training data:\", e)\n",
    "\n",
    "# Train the model\n",
    "try:\n",
    "    model = SVD()\n",
    "    model.fit(trainset)\n",
    "    print(\"Model trained successfully.\")\n",
    "except Exception as e:\n",
    "    print(\"Error training the model:\", e)\n",
    "\n",
    "# Step 5: Read Input Data from JSON\n",
    "try:\n",
    "    with open('E:/PycharmProjects/Interface/input_data.json', 'r') as file:\n",
    "        input_data = json.load(file)\n",
    "    input_data_df = pd.DataFrame([input_data])  # Convert single record to DataFrame\n",
    "    print(\"Input data loaded successfully.\")\n",
    "    print(\"Input data:\")\n",
    "    print(input_data_df.head())\n",
    "except Exception as e:\n",
    "    print(\"Error loading input data:\", e)\n",
    "\n",
    "# Step 6: Generate Recommendations for Input Data\n",
    "try:\n",
    "    recommendations = []\n",
    "    for idx, row in input_data_df.iterrows():\n",
    "        user_id = row['user_id']\n",
    "        time_of_day = row['time_of_day']\n",
    "        user_testset = [(user_id, drink_id, None, time_of_day) for drink_id in user_history_df['drink_id'].unique()]\n",
    "        predictions = [(model.predict(user_id, drink_id), drink_id) for drink_id in user_history_df['drink_id'].unique()]\n",
    "        predictions.sort(key=lambda x: x[0].est, reverse=True)\n",
    "        recommendation_1 = predictions[0][1]\n",
    "        recommendation_2 = predictions[1][1]\n",
    "        recommendations.append({'user_id': user_id, 'recommendation_1': recommendation_1, 'recommendation_2': recommendation_2})\n",
    "    print(\"Recommendations generated successfully.\")\n",
    "\n",
    "    # Write recommendations to JSON file\n",
    "    with open('recommendations.json', 'w') as file:\n",
    "        json.dump(recommendations, file, indent=4)\n",
    "    print(\"Recommendations saved to recommendations.json.\")\n",
    "\n",
    "except Exception as e:\n",
    "    print(\"Error generating recommendations:\", e)\n",
    "\n",
    "\n",
    "# Close database connection\n",
    "conn_user_history.close()\n"
   ],
   "metadata": {
    "colab": {
     "base_uri": "https://localhost:8080/"
    },
    "id": "TqlY3DCXrtnL",
    "outputId": "8c919d69-f504-468d-cece-60591f2c186b"
   },
   "execution_count": 16,
   "outputs": [
    {
     "name": "stdout",
     "output_type": "stream",
     "text": [
      "Connected to existing database.\n",
      "User history table is not empty. Skipping CSV file loading.\n",
      "User history data loaded successfully from database.\n",
      "Contents of user history:\n",
      "   user_id  drink_id  drink_rating type_of_drink time_of_day\n",
      "0        7     203.0           4.0        bitter     morning\n",
      "1        4     202.0           3.0      caffeine       night\n",
      "2        7     201.0           3.0         sweet     morning\n",
      "3        7     203.0           2.0        bitter       night\n",
      "4        2     201.0           1.0         sweet       night\n",
      "Training data prepared successfully.\n",
      "Model trained successfully.\n",
      "Input data loaded successfully.\n",
      "Input data:\n",
      "   user_id time_of_day\n",
      "0        1     morning\n",
      "Recommendations generated successfully.\n",
      "Recommendations saved to recommendations.json.\n"
     ]
    }
   ]
  },
  {
   "cell_type": "code",
   "execution_count": null,
   "outputs": [],
   "source": [],
   "metadata": {
    "collapsed": false,
    "pycharm": {
     "is_executing": true
    }
   }
  },
  {
   "cell_type": "code",
   "execution_count": null,
   "outputs": [],
   "source": [],
   "metadata": {
    "collapsed": false
   }
  }
 ]
}
